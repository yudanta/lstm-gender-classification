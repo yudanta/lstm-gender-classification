{
 "cells": [
  {
   "cell_type": "markdown",
   "metadata": {},
   "source": [
    "### Character level LSTM for gender classification \n",
    "#### A comparison between word and character level in gender classifiction"
   ]
  },
  {
   "cell_type": "code",
   "execution_count": 1,
   "metadata": {},
   "outputs": [],
   "source": [
    "#imports \n",
    "import re\n",
    "\n",
    "import numpy as np \n",
    "import pandas as pd \n",
    "\n",
    "import tensorflow as tf\n",
    "\n",
    "from sklearn.feature_extraction.text import CountVectorizer\n",
    "from tensorflow.keras.preprocessing.text import Tokenizer\n",
    "from tensorflow.keras.preprocessing.sequence import pad_sequences\n",
    "from tensorflow.keras.models import Sequential\n",
    "from tensorflow.keras.layers import Input, Dense, Embedding, LSTM, Dropout\n",
    "from sklearn.model_selection import train_test_split"
   ]
  },
  {
   "cell_type": "code",
   "execution_count": 2,
   "metadata": {},
   "outputs": [],
   "source": [
    "#load datasets\n",
    "data = pd.read_csv('name_gender_fix.csv')"
   ]
  },
  {
   "cell_type": "code",
   "execution_count": 3,
   "metadata": {},
   "outputs": [
    {
     "data": {
      "text/plain": [
       "array(['m', 'f'], dtype=object)"
      ]
     },
     "execution_count": 3,
     "metadata": {},
     "output_type": "execute_result"
    }
   ],
   "source": [
    "data.gender.unique()"
   ]
  },
  {
   "cell_type": "code",
   "execution_count": 4,
   "metadata": {},
   "outputs": [],
   "source": [
    "#preprocessing datasets\n",
    "data['name'] = data['name'].apply(lambda x: x.lower())"
   ]
  },
  {
   "cell_type": "code",
   "execution_count": 41,
   "metadata": {},
   "outputs": [
    {
     "data": {
      "text/html": [
       "<div>\n",
       "<style scoped>\n",
       "    .dataframe tbody tr th:only-of-type {\n",
       "        vertical-align: middle;\n",
       "    }\n",
       "\n",
       "    .dataframe tbody tr th {\n",
       "        vertical-align: top;\n",
       "    }\n",
       "\n",
       "    .dataframe thead th {\n",
       "        text-align: right;\n",
       "    }\n",
       "</style>\n",
       "<table border=\"1\" class=\"dataframe\">\n",
       "  <thead>\n",
       "    <tr style=\"text-align: right;\">\n",
       "      <th></th>\n",
       "      <th>Unnamed: 0</th>\n",
       "      <th>name</th>\n",
       "      <th>gender</th>\n",
       "    </tr>\n",
       "  </thead>\n",
       "  <tbody>\n",
       "    <tr>\n",
       "      <th>0</th>\n",
       "      <td>0</td>\n",
       "      <td>hafizhan shidqi</td>\n",
       "      <td>m</td>\n",
       "    </tr>\n",
       "    <tr>\n",
       "      <th>1</th>\n",
       "      <td>1</td>\n",
       "      <td>gandhi wibowo</td>\n",
       "      <td>m</td>\n",
       "    </tr>\n",
       "    <tr>\n",
       "      <th>2</th>\n",
       "      <td>2</td>\n",
       "      <td>aldio mahendra purwandrarto</td>\n",
       "      <td>m</td>\n",
       "    </tr>\n",
       "    <tr>\n",
       "      <th>3</th>\n",
       "      <td>3</td>\n",
       "      <td>benny putra</td>\n",
       "      <td>m</td>\n",
       "    </tr>\n",
       "    <tr>\n",
       "      <th>4</th>\n",
       "      <td>4</td>\n",
       "      <td>vicky vernando dasta</td>\n",
       "      <td>m</td>\n",
       "    </tr>\n",
       "    <tr>\n",
       "      <th>5</th>\n",
       "      <td>5</td>\n",
       "      <td>jufianto henri</td>\n",
       "      <td>m</td>\n",
       "    </tr>\n",
       "    <tr>\n",
       "      <th>6</th>\n",
       "      <td>6</td>\n",
       "      <td>aan nuraini</td>\n",
       "      <td>f</td>\n",
       "    </tr>\n",
       "    <tr>\n",
       "      <th>7</th>\n",
       "      <td>7</td>\n",
       "      <td>abdur rahman</td>\n",
       "      <td>m</td>\n",
       "    </tr>\n",
       "    <tr>\n",
       "      <th>8</th>\n",
       "      <td>8</td>\n",
       "      <td>abdurrahman</td>\n",
       "      <td>m</td>\n",
       "    </tr>\n",
       "    <tr>\n",
       "      <th>9</th>\n",
       "      <td>9</td>\n",
       "      <td>ade indra sukma</td>\n",
       "      <td>f</td>\n",
       "    </tr>\n",
       "  </tbody>\n",
       "</table>\n",
       "</div>"
      ],
      "text/plain": [
       "   Unnamed: 0                         name gender\n",
       "0           0              hafizhan shidqi      m\n",
       "1           1                gandhi wibowo      m\n",
       "2           2  aldio mahendra purwandrarto      m\n",
       "3           3                  benny putra      m\n",
       "4           4         vicky vernando dasta      m\n",
       "5           5               jufianto henri      m\n",
       "6           6                  aan nuraini      f\n",
       "7           7                 abdur rahman      m\n",
       "8           8                  abdurrahman      m\n",
       "9           9              ade indra sukma      f"
      ]
     },
     "execution_count": 41,
     "metadata": {},
     "output_type": "execute_result"
    }
   ],
   "source": [
    "data.head(10)"
   ]
  },
  {
   "cell_type": "code",
   "execution_count": 6,
   "metadata": {},
   "outputs": [
    {
     "name": "stdout",
     "output_type": "stream",
     "text": [
      "{'b': 1, 'w': 2, 'i': 3, '.': 4, 'd': 5, 'r': 6, 's': 7, 'h': 8, 'm': 9, \"'\": 10, 'f': 11, 'q': 12, 'g': 13, 'c': 14, 'l': 15, 'y': 16, 'u': 17, 'p': 18, ' ': 19, 't': 20, 'n': 21, 'k': 22, 'v': 23, 'o': 24, 'z': 25, 'e': 26, 'j': 27, 'a': 28}\n",
      "28\n"
     ]
    }
   ],
   "source": [
    "#create vocabulary dictionary\n",
    "human_vocab = set()\n",
    "\n",
    "for name in data['name']:\n",
    "    human_vocab.update(tuple(name))\n",
    "    \n",
    "vocab_index = {v: k + 1 for k, v in enumerate(human_vocab)}\n",
    "\n",
    "print(vocab_index)\n",
    "print(len(vocab_index))\n"
   ]
  },
  {
   "cell_type": "code",
   "execution_count": 46,
   "metadata": {},
   "outputs": [],
   "source": [
    "import json \n",
    "with open('char_dictionary.json', 'w') as f:\n",
    "    json.dump(vocab_index, f)"
   ]
  },
  {
   "cell_type": "code",
   "execution_count": 7,
   "metadata": {},
   "outputs": [],
   "source": [
    "name_datasets = data['name'].apply(lambda x: [vocab_index[key] for key in list(x)])"
   ]
  },
  {
   "cell_type": "code",
   "execution_count": 8,
   "metadata": {},
   "outputs": [],
   "source": [
    "X = pad_sequences(name_datasets)"
   ]
  },
  {
   "cell_type": "code",
   "execution_count": 9,
   "metadata": {},
   "outputs": [],
   "source": [
    "Y = pd.get_dummies(data['gender']).values"
   ]
  },
  {
   "cell_type": "code",
   "execution_count": 10,
   "metadata": {},
   "outputs": [
    {
     "name": "stdout",
     "output_type": "stream",
     "text": [
      "[0 1]\n"
     ]
    }
   ],
   "source": [
    "print(Y[0])"
   ]
  },
  {
   "cell_type": "code",
   "execution_count": 11,
   "metadata": {},
   "outputs": [
    {
     "name": "stdout",
     "output_type": "stream",
     "text": [
      "data shape\n",
      "(1568, 32) (1568, 2)\n",
      "(392, 32) (392, 2)\n"
     ]
    }
   ],
   "source": [
    "X_train, X_test, y_train, y_test = train_test_split(X, Y, test_size=0.2, random_state=42)\n",
    "print('data shape')\n",
    "print(X_train.shape, y_train.shape)\n",
    "print(X_test.shape, y_test.shape)"
   ]
  },
  {
   "cell_type": "code",
   "execution_count": 24,
   "metadata": {
    "scrolled": true
   },
   "outputs": [
    {
     "name": "stdout",
     "output_type": "stream",
     "text": [
      "model summary\n",
      "Model: \"sequential_7\"\n",
      "_________________________________________________________________\n",
      "Layer (type)                 Output Shape              Param #   \n",
      "=================================================================\n",
      "embedding_3 (Embedding)      (None, 32, 16)            464       \n",
      "_________________________________________________________________\n",
      "lstm_6 (LSTM)                (None, 64)                20736     \n",
      "_________________________________________________________________\n",
      "dense_6 (Dense)              (None, 2)                 130       \n",
      "=================================================================\n",
      "Total params: 21,330\n",
      "Trainable params: 21,330\n",
      "Non-trainable params: 0\n",
      "_________________________________________________________________\n",
      "None\n"
     ]
    }
   ],
   "source": [
    "#build model\n",
    "model = Sequential()\n",
    "\n",
    "#model.add(Input(shape=(40, len(vocab_index)), dtype='float32'))\n",
    "#model.add(LSTM(128, input_shape=(40, len(vocab_index)), dropout=0.2, recurrent_dropout=0.2))\n",
    "#model.add(Dense(3, activation='sigmoid'))\n",
    "\n",
    "#model.add(Embedding(40, 47, input_length=X.shape[1]))\n",
    "model.add(Embedding(len(vocab_index) + 1, 16, input_length=X.shape[1]))\n",
    "model.add(LSTM(64, dropout=0.2, recurrent_dropout=0.2))\n",
    "model.add(Dense(2, activation='sigmoid'))\n",
    "\n",
    "#compile model \n",
    "model.compile(loss='binary_crossentropy', optimizer='adam', metrics=['accuracy'])\n",
    "\n",
    "print('model summary')\n",
    "print(model.summary())"
   ]
  },
  {
   "cell_type": "code",
   "execution_count": 25,
   "metadata": {},
   "outputs": [
    {
     "name": "stdout",
     "output_type": "stream",
     "text": [
      "Epoch 1/12\n",
      "25/25 [==============================] - 2s 61ms/step - loss: 0.6885 - accuracy: 0.5542 - val_loss: 0.6799 - val_accuracy: 0.5638\n",
      "Epoch 2/12\n",
      "25/25 [==============================] - 1s 46ms/step - loss: 0.6758 - accuracy: 0.5568 - val_loss: 0.6608 - val_accuracy: 0.5638\n",
      "Epoch 3/12\n",
      "25/25 [==============================] - 1s 37ms/step - loss: 0.6449 - accuracy: 0.5918 - val_loss: 0.6091 - val_accuracy: 0.6046\n",
      "Epoch 4/12\n",
      "25/25 [==============================] - 1s 46ms/step - loss: 0.5832 - accuracy: 0.7251 - val_loss: 0.5389 - val_accuracy: 0.7704\n",
      "Epoch 5/12\n",
      "25/25 [==============================] - 1s 39ms/step - loss: 0.5139 - accuracy: 0.7653 - val_loss: 0.4820 - val_accuracy: 0.7679\n",
      "Epoch 6/12\n",
      "25/25 [==============================] - 1s 38ms/step - loss: 0.4911 - accuracy: 0.7710 - val_loss: 0.4625 - val_accuracy: 0.7806\n",
      "Epoch 7/12\n",
      "25/25 [==============================] - 1s 42ms/step - loss: 0.4490 - accuracy: 0.7946 - val_loss: 0.4317 - val_accuracy: 0.7985\n",
      "Epoch 8/12\n",
      "25/25 [==============================] - 1s 37ms/step - loss: 0.4226 - accuracy: 0.7966 - val_loss: 0.3962 - val_accuracy: 0.8367\n",
      "Epoch 9/12\n",
      "25/25 [==============================] - 1s 37ms/step - loss: 0.4108 - accuracy: 0.8131 - val_loss: 0.4049 - val_accuracy: 0.8163\n",
      "Epoch 10/12\n",
      "25/25 [==============================] - 1s 46ms/step - loss: 0.3894 - accuracy: 0.8195 - val_loss: 0.3817 - val_accuracy: 0.8214\n",
      "Epoch 11/12\n",
      "25/25 [==============================] - 1s 39ms/step - loss: 0.3855 - accuracy: 0.8310 - val_loss: 0.3775 - val_accuracy: 0.8291\n",
      "Epoch 12/12\n",
      "25/25 [==============================] - 1s 38ms/step - loss: 0.3805 - accuracy: 0.8246 - val_loss: 0.3763 - val_accuracy: 0.8316\n"
     ]
    },
    {
     "data": {
      "text/plain": [
       "<tensorflow.python.keras.callbacks.History at 0x7f4b4d77de80>"
      ]
     },
     "execution_count": 25,
     "metadata": {},
     "output_type": "execute_result"
    }
   ],
   "source": [
    "batch_size = 64\n",
    "n_epochs = 12\n",
    "model.fit(X_train, y_train, batch_size=batch_size, epochs=n_epochs, validation_data=(X_test, y_test), verbose=1)"
   ]
  },
  {
   "cell_type": "code",
   "execution_count": 26,
   "metadata": {},
   "outputs": [
    {
     "name": "stdout",
     "output_type": "stream",
     "text": [
      "7/7 [==============================] - 0s 9ms/step - loss: 0.3763 - accuracy: 0.8316\n",
      "score 0.376253604888916\n",
      "accuracy 0.831632673740387\n"
     ]
    }
   ],
   "source": [
    "#test evaluate\n",
    "score, acc = model.evaluate(X_test, y_test, batch_size=64)\n",
    "print('score', score)\n",
    "print('accuracy', acc)"
   ]
  },
  {
   "cell_type": "code",
   "execution_count": 47,
   "metadata": {},
   "outputs": [
    {
     "name": "stdout",
     "output_type": "stream",
     "text": [
      "[[ 0  0  0  0  0  0  0  0  0  0  0  0  0  0  0  0  0  0  0  0  0  0  0  0\n",
      "  28  9  3 21 28  6 20  3]]\n"
     ]
    }
   ],
   "source": [
    "#test \n",
    "name = 'Aminarti'\n",
    "name = list(name.lower())\n",
    "test_dt = [vocab_index[x] for x in name]\n",
    "test_dt = pad_sequences([test_dt], maxlen=X.shape[1])\n",
    "print(test_dt)"
   ]
  },
  {
   "cell_type": "code",
   "execution_count": 48,
   "metadata": {},
   "outputs": [
    {
     "name": "stdout",
     "output_type": "stream",
     "text": [
      "1/1 - 0s\n",
      "[0.856099   0.13981047]\n",
      "Female\n"
     ]
    }
   ],
   "source": [
    "pad = np.array(test_dt[0])\n",
    "res = model.predict(pad.reshape(1, pad.shape[0]), batch_size=1, verbose=2)[0]\n",
    "print(res)\n",
    "if np.argmax(res) == 0:\n",
    "    print('Female')\n",
    "elif np.argmax(res) == 1:\n",
    "    print('Male')"
   ]
  }
 ],
 "metadata": {
  "kernelspec": {
   "display_name": "Python 3",
   "language": "python",
   "name": "python3"
  },
  "language_info": {
   "codemirror_mode": {
    "name": "ipython",
    "version": 3
   },
   "file_extension": ".py",
   "mimetype": "text/x-python",
   "name": "python",
   "nbconvert_exporter": "python",
   "pygments_lexer": "ipython3",
   "version": "3.6.9"
  }
 },
 "nbformat": 4,
 "nbformat_minor": 2
}
